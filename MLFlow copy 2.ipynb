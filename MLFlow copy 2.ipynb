{
 "cells": [
  {
   "cell_type": "code",
   "execution_count": 1,
   "metadata": {},
   "outputs": [
    {
     "name": "stdout",
     "output_type": "stream",
     "text": [
      "Requirement already satisfied: joblib in g:\\projet data\\opc_projets\\p7\\venv\\lib\\site-packages (1.4.2)\n",
      "Note: you may need to restart the kernel to use updated packages.\n"
     ]
    },
    {
     "name": "stderr",
     "output_type": "stream",
     "text": [
      "\n",
      "[notice] A new release of pip is available: 24.1.2 -> 24.2\n",
      "[notice] To update, run: python.exe -m pip install --upgrade pip\n"
     ]
    }
   ],
   "source": [
    "pip install joblib"
   ]
  },
  {
   "cell_type": "code",
   "execution_count": 1,
   "metadata": {},
   "outputs": [
    {
     "name": "stdout",
     "output_type": "stream",
     "text": [
      "<class 'pandas.core.frame.DataFrame'>\n",
      "RangeIndex: 356251 entries, 0 to 356250\n",
      "Columns: 248 entries, index to paymentrate\n",
      "dtypes: bool(133), float64(71), int64(44)\n",
      "memory usage: 357.8 MB\n"
     ]
    }
   ],
   "source": [
    "import pandas as pd\n",
    "df = pd.read_csv('processed_data.csv')\n",
    "df.info()"
   ]
  },
  {
   "cell_type": "code",
   "execution_count": 5,
   "metadata": {},
   "outputs": [
    {
     "ename": "OSError",
     "evalue": "No such file or directory: 'G:\\projet data\\OPC_Projets\\P7\\mlruns\\420642211746036919\\bd401b5ef2ad4eda893507c540f264f5\\artifacts\\model.pkl'",
     "output_type": "error",
     "traceback": [
      "\u001b[1;31m---------------------------------------------------------------------------\u001b[0m",
      "\u001b[1;31mOSError\u001b[0m                                   Traceback (most recent call last)",
      "Cell \u001b[1;32mIn[5], line 7\u001b[0m\n\u001b[0;32m      4\u001b[0m model_uri \u001b[38;5;241m=\u001b[39m \u001b[38;5;124mf\u001b[39m\u001b[38;5;124m\"\u001b[39m\u001b[38;5;124mruns:/bd401b5ef2ad4eda893507c540f264f5/model.pkl\u001b[39m\u001b[38;5;124m\"\u001b[39m\n\u001b[0;32m      6\u001b[0m \u001b[38;5;66;03m# Charger le modèle\u001b[39;00m\n\u001b[1;32m----> 7\u001b[0m model \u001b[38;5;241m=\u001b[39m \u001b[43mmlflow\u001b[49m\u001b[38;5;241;43m.\u001b[39;49m\u001b[43mpyfunc\u001b[49m\u001b[38;5;241;43m.\u001b[39;49m\u001b[43mload_model\u001b[49m\u001b[43m(\u001b[49m\u001b[43mmodel_uri\u001b[49m\u001b[43m)\u001b[49m\n\u001b[0;32m      9\u001b[0m \u001b[38;5;66;03m# Tester le modèle avec des données\u001b[39;00m\n\u001b[0;32m     10\u001b[0m \u001b[38;5;28;01mimport\u001b[39;00m \u001b[38;5;21;01mpandas\u001b[39;00m \u001b[38;5;28;01mas\u001b[39;00m \u001b[38;5;21;01mpd\u001b[39;00m\n",
      "File \u001b[1;32mg:\\projet data\\OPC_Projets\\P7\\venv\\Lib\\site-packages\\mlflow\\tracing\\provider.py:237\u001b[0m, in \u001b[0;36mtrace_disabled.<locals>.wrapper\u001b[1;34m(*args, **kwargs)\u001b[0m\n\u001b[0;32m    235\u001b[0m disable()\n\u001b[0;32m    236\u001b[0m \u001b[38;5;28;01mtry\u001b[39;00m:\n\u001b[1;32m--> 237\u001b[0m     is_func_called, result \u001b[38;5;241m=\u001b[39m \u001b[38;5;28;01mTrue\u001b[39;00m, \u001b[43mf\u001b[49m\u001b[43m(\u001b[49m\u001b[38;5;241;43m*\u001b[39;49m\u001b[43margs\u001b[49m\u001b[43m,\u001b[49m\u001b[43m \u001b[49m\u001b[38;5;241;43m*\u001b[39;49m\u001b[38;5;241;43m*\u001b[39;49m\u001b[43mkwargs\u001b[49m\u001b[43m)\u001b[49m\n\u001b[0;32m    238\u001b[0m \u001b[38;5;28;01mfinally\u001b[39;00m:\n\u001b[0;32m    239\u001b[0m     enable()\n",
      "File \u001b[1;32mg:\\projet data\\OPC_Projets\\P7\\venv\\Lib\\site-packages\\mlflow\\pyfunc\\__init__.py:993\u001b[0m, in \u001b[0;36mload_model\u001b[1;34m(model_uri, suppress_warnings, dst_path, model_config)\u001b[0m\n\u001b[0;32m    989\u001b[0m         entity_list\u001b[38;5;241m.\u001b[39mappend(Entity(job\u001b[38;5;241m=\u001b[39mjob_entity))\n\u001b[0;32m    991\u001b[0m     lineage_header_info \u001b[38;5;241m=\u001b[39m LineageHeaderInfo(entities\u001b[38;5;241m=\u001b[39mentity_list) \u001b[38;5;28;01mif\u001b[39;00m entity_list \u001b[38;5;28;01melse\u001b[39;00m \u001b[38;5;28;01mNone\u001b[39;00m\n\u001b[1;32m--> 993\u001b[0m local_path \u001b[38;5;241m=\u001b[39m \u001b[43m_download_artifact_from_uri\u001b[49m\u001b[43m(\u001b[49m\n\u001b[0;32m    994\u001b[0m \u001b[43m    \u001b[49m\u001b[43martifact_uri\u001b[49m\u001b[38;5;241;43m=\u001b[39;49m\u001b[43mmodel_uri\u001b[49m\u001b[43m,\u001b[49m\u001b[43m \u001b[49m\u001b[43moutput_path\u001b[49m\u001b[38;5;241;43m=\u001b[39;49m\u001b[43mdst_path\u001b[49m\u001b[43m,\u001b[49m\u001b[43m \u001b[49m\u001b[43mlineage_header_info\u001b[49m\u001b[38;5;241;43m=\u001b[39;49m\u001b[43mlineage_header_info\u001b[49m\n\u001b[0;32m    995\u001b[0m \u001b[43m\u001b[49m\u001b[43m)\u001b[49m\n\u001b[0;32m    997\u001b[0m \u001b[38;5;28;01mif\u001b[39;00m \u001b[38;5;129;01mnot\u001b[39;00m suppress_warnings:\n\u001b[0;32m    998\u001b[0m     model_requirements \u001b[38;5;241m=\u001b[39m _get_pip_requirements_from_model_path(local_path)\n",
      "File \u001b[1;32mg:\\projet data\\OPC_Projets\\P7\\venv\\Lib\\site-packages\\mlflow\\tracking\\artifact_utils.py:116\u001b[0m, in \u001b[0;36m_download_artifact_from_uri\u001b[1;34m(artifact_uri, output_path, lineage_header_info)\u001b[0m\n\u001b[0;32m    110\u001b[0m \u001b[38;5;28;01mif\u001b[39;00m \u001b[38;5;28misinstance\u001b[39m(repo, ModelsArtifactRepository):\n\u001b[0;32m    111\u001b[0m     \u001b[38;5;28;01mreturn\u001b[39;00m repo\u001b[38;5;241m.\u001b[39mdownload_artifacts(\n\u001b[0;32m    112\u001b[0m         artifact_path\u001b[38;5;241m=\u001b[39martifact_path,\n\u001b[0;32m    113\u001b[0m         dst_path\u001b[38;5;241m=\u001b[39moutput_path,\n\u001b[0;32m    114\u001b[0m         lineage_header_info\u001b[38;5;241m=\u001b[39mlineage_header_info,\n\u001b[0;32m    115\u001b[0m     )\n\u001b[1;32m--> 116\u001b[0m \u001b[38;5;28;01mreturn\u001b[39;00m \u001b[43mrepo\u001b[49m\u001b[38;5;241;43m.\u001b[39;49m\u001b[43mdownload_artifacts\u001b[49m\u001b[43m(\u001b[49m\u001b[43martifact_path\u001b[49m\u001b[38;5;241;43m=\u001b[39;49m\u001b[43martifact_path\u001b[49m\u001b[43m,\u001b[49m\u001b[43m \u001b[49m\u001b[43mdst_path\u001b[49m\u001b[38;5;241;43m=\u001b[39;49m\u001b[43moutput_path\u001b[49m\u001b[43m)\u001b[49m\n",
      "File \u001b[1;32mg:\\projet data\\OPC_Projets\\P7\\venv\\Lib\\site-packages\\mlflow\\store\\artifact\\runs_artifact_repo.py:131\u001b[0m, in \u001b[0;36mRunsArtifactRepository.download_artifacts\u001b[1;34m(self, artifact_path, dst_path)\u001b[0m\n\u001b[0;32m    114\u001b[0m \u001b[38;5;28;01mdef\u001b[39;00m \u001b[38;5;21mdownload_artifacts\u001b[39m(\u001b[38;5;28mself\u001b[39m, artifact_path, dst_path\u001b[38;5;241m=\u001b[39m\u001b[38;5;28;01mNone\u001b[39;00m):\n\u001b[0;32m    115\u001b[0m \u001b[38;5;250m    \u001b[39m\u001b[38;5;124;03m\"\"\"\u001b[39;00m\n\u001b[0;32m    116\u001b[0m \u001b[38;5;124;03m    Download an artifact file or directory to a local directory if applicable, and return a\u001b[39;00m\n\u001b[0;32m    117\u001b[0m \u001b[38;5;124;03m    local path for it.\u001b[39;00m\n\u001b[1;32m   (...)\u001b[0m\n\u001b[0;32m    129\u001b[0m \u001b[38;5;124;03m        Absolute path of the local filesystem location containing the desired artifacts.\u001b[39;00m\n\u001b[0;32m    130\u001b[0m \u001b[38;5;124;03m    \"\"\"\u001b[39;00m\n\u001b[1;32m--> 131\u001b[0m     \u001b[38;5;28;01mreturn\u001b[39;00m \u001b[38;5;28;43mself\u001b[39;49m\u001b[38;5;241;43m.\u001b[39;49m\u001b[43mrepo\u001b[49m\u001b[38;5;241;43m.\u001b[39;49m\u001b[43mdownload_artifacts\u001b[49m\u001b[43m(\u001b[49m\u001b[43martifact_path\u001b[49m\u001b[43m,\u001b[49m\u001b[43m \u001b[49m\u001b[43mdst_path\u001b[49m\u001b[43m)\u001b[49m\n",
      "File \u001b[1;32mg:\\projet data\\OPC_Projets\\P7\\venv\\Lib\\site-packages\\mlflow\\store\\artifact\\local_artifact_repo.py:91\u001b[0m, in \u001b[0;36mLocalArtifactRepository.download_artifacts\u001b[1;34m(self, artifact_path, dst_path)\u001b[0m\n\u001b[0;32m     89\u001b[0m local_artifact_path \u001b[38;5;241m=\u001b[39m os\u001b[38;5;241m.\u001b[39mpath\u001b[38;5;241m.\u001b[39mjoin(\u001b[38;5;28mself\u001b[39m\u001b[38;5;241m.\u001b[39martifact_dir, os\u001b[38;5;241m.\u001b[39mpath\u001b[38;5;241m.\u001b[39mnormpath(artifact_path))\n\u001b[0;32m     90\u001b[0m \u001b[38;5;28;01mif\u001b[39;00m \u001b[38;5;129;01mnot\u001b[39;00m os\u001b[38;5;241m.\u001b[39mpath\u001b[38;5;241m.\u001b[39mexists(local_artifact_path):\n\u001b[1;32m---> 91\u001b[0m     \u001b[38;5;28;01mraise\u001b[39;00m \u001b[38;5;167;01mOSError\u001b[39;00m(\u001b[38;5;124mf\u001b[39m\u001b[38;5;124m\"\u001b[39m\u001b[38;5;124mNo such file or directory: \u001b[39m\u001b[38;5;124m'\u001b[39m\u001b[38;5;132;01m{\u001b[39;00mlocal_artifact_path\u001b[38;5;132;01m}\u001b[39;00m\u001b[38;5;124m'\u001b[39m\u001b[38;5;124m\"\u001b[39m)\n\u001b[0;32m     92\u001b[0m \u001b[38;5;28;01mreturn\u001b[39;00m os\u001b[38;5;241m.\u001b[39mpath\u001b[38;5;241m.\u001b[39mabspath(local_artifact_path)\n",
      "\u001b[1;31mOSError\u001b[0m: No such file or directory: 'G:\\projet data\\OPC_Projets\\P7\\mlruns\\420642211746036919\\bd401b5ef2ad4eda893507c540f264f5\\artifacts\\model.pkl'"
     ]
    }
   ],
   "source": [
    "import mlflow.pyfunc\n",
    "\n",
    "# Chemin vers le modèle dans MLflow, utilisant la run ID\n",
    "model_uri = f\"runs:/bd401b5ef2ad4eda893507c540f264f5/model.pkl\"\n",
    "\n",
    "# Charger le modèle\n",
    "model = mlflow.pyfunc.load_model(model_uri)\n",
    "\n",
    "# Tester le modèle avec des données\n",
    "import pandas as pd\n",
    "\n",
    "# Exemple de données\n",
    "input_data = pd.DataFrame({\n",
    "    'paymentrate': [100],\n",
    "    'extsource3': [200],\n",
    "    # Ajoute toutes les features utilisées\n",
    "})\n",
    "\n",
    "# Faire une prédiction\n",
    "prediction = model.predict(input_data)\n",
    "print(prediction)\n"
   ]
  },
  {
   "cell_type": "code",
   "execution_count": 1,
   "metadata": {},
   "outputs": [
    {
     "data": {
      "text/plain": [
       "['lightgbm_model.pkl']"
      ]
     },
     "execution_count": 1,
     "metadata": {},
     "output_type": "execute_result"
    }
   ],
   "source": [
    "import joblib\n",
    "\n",
    "# Chemin vers le modèle sauvegardé\n",
    "model_path = 'G:/projet data/OPC_Projets/P7/mlruns/276709811813126569/73b32bb40f2d46f7a98bdade812a126b/artifacts/model/model.pkl'\n",
    "\n",
    "# Charger le modèle depuis le fichier .pkl\n",
    "best_lgbm_model = joblib.load(model_path)\n",
    "\n",
    "# Sauvegarder le modèle (si nécessaire)\n",
    "joblib.dump(best_lgbm_model, 'lightgbm_model.pkl')\n"
   ]
  },
  {
   "cell_type": "code",
   "execution_count": 1,
   "metadata": {},
   "outputs": [
    {
     "name": "stdout",
     "output_type": "stream",
     "text": [
      "Version de LightGBM : 4.5.0\n"
     ]
    }
   ],
   "source": [
    "import lightgbm as lgb\n",
    "\n",
    "print(\"Version de LightGBM :\", lgb.__version__)\n"
   ]
  },
  {
   "cell_type": "code",
   "execution_count": 10,
   "metadata": {},
   "outputs": [],
   "source": [
    "import pandas as pd\n",
    "\n",
    "# Chemin vers le fichier source et fichier nettoyé\n",
    "source_file = \"final_processed_data.csv\"\n",
    "cleaned_file = \"final_processed_data_clean2.csv\"\n",
    "\n",
    "# Fonction pour charger les données ligne par ligne et enregistrer uniquement les lignes valides\n",
    "def clean_csv_file(source_file, cleaned_file):\n",
    "    with open(source_file, \"rb\") as f_in, open(cleaned_file, \"w\", encoding=\"utf-8\") as f_out:\n",
    "        line_num = 0\n",
    "        for line in f_in:\n",
    "            try:\n",
    "                # Décode chaque ligne et écrit dans le nouveau fichier si la ligne est valide\n",
    "                decoded_line = line.decode(\"utf-8\")\n",
    "                f_out.write(decoded_line)\n",
    "            except UnicodeDecodeError:\n",
    "                # En cas d'erreur d'encodage, signaler la ligne et ignorer\n",
    "                print(f\"Erreur d'encodage à la ligne {line_num}. Ligne ignorée.\")\n",
    "            line_num += 1\n",
    "\n",
    "# Appeler la fonction pour créer un fichier nettoyé\n",
    "clean_csv_file(source_file, cleaned_file)\n",
    "\n",
    "# Charger les données nettoyées dans un DataFrame\n",
    "reference_data = pd.read_csv(cleaned_file)\n"
   ]
  },
  {
   "cell_type": "code",
   "execution_count": 12,
   "metadata": {},
   "outputs": [
    {
     "name": "stdout",
     "output_type": "stream",
     "text": [
      "Index(['index', 'skidcurr', 'target', 'cntchildren', 'amtincometotal',\n",
      "       'amtcredit', 'amtannuity', 'amtgoodsprice', 'regionpopulationrelative',\n",
      "       'daysbirth',\n",
      "       ...\n",
      "       'wallsmaterialmode_Wooden', 'wallsmaterialmode_nan',\n",
      "       'emergencystatemode_No', 'emergencystatemode_Yes',\n",
      "       'emergencystatemode_nan', 'daysemployedperc', 'incomecreditperc',\n",
      "       'incomeperperson', 'annuityincomeperc', 'paymentrate'],\n",
      "      dtype='object', length=268)\n",
      "Les features ont été sauvegardées dans 'real_feature_names.txt'\n"
     ]
    }
   ],
   "source": [
    "import pandas as pd\n",
    "import numpy as np\n",
    "import gc\n",
    "\n",
    "# Charger les données d'entraînement\n",
    "df = pd.read_csv('application_train.csv')\n",
    "test_df = pd.read_csv('application_test.csv')\n",
    "df = df._append(test_df).reset_index()\n",
    "\n",
    "# Nettoyage des colonnes\n",
    "df.columns = df.columns.str.replace('[^A-Za-z0-9]+', '', regex=True)\n",
    "df.columns = df.columns.str.lower()\n",
    "\n",
    "# Appliquer one-hot encoding aux colonnes catégorielles\n",
    "def one_hot_encoder(df, nan_as_category=True):\n",
    "    original_columns = list(df.columns)\n",
    "    categorical_columns = [col for col in df.columns if df[col].dtype == 'object']\n",
    "    df = pd.get_dummies(df, columns=categorical_columns, dummy_na=nan_as_category)\n",
    "    new_columns = [c for c in df.columns if c not in original_columns]\n",
    "    return df, new_columns\n",
    "\n",
    "df, new_columns = one_hot_encoder(df)\n",
    "\n",
    "# Ajouter les nouvelles colonnes créées\n",
    "df['daysemployed'].replace(365243, np.nan)\n",
    "df['daysemployedperc'] = df['daysemployed'] / df['daysbirth']\n",
    "df['incomecreditperc'] = df['amtincometotal'] / df['amtcredit']\n",
    "df['incomeperperson'] = df['amtincometotal'] / df['cntfammembers']\n",
    "df['annuityincomeperc'] = df['amtannuity'] / df['amtincometotal']\n",
    "df['paymentrate'] = df['amtannuity'] / df['amtcredit']\n",
    "\n",
    "# Afficher et sauvegarder les noms des colonnes après transformation\n",
    "feature_names = df.columns\n",
    "print(feature_names)\n",
    "\n",
    "# Sauvegarder les noms des colonnes dans un fichier texte\n",
    "with open('real_feature_names.txt', 'w') as f:\n",
    "    for col in feature_names:\n",
    "        f.write(col + '\\n')\n",
    "\n",
    "print(\"Les features ont été sauvegardées dans 'real_feature_names.txt'\")\n"
   ]
  },
  {
   "cell_type": "code",
   "execution_count": null,
   "metadata": {},
   "outputs": [],
   "source": []
  },
  {
   "cell_type": "code",
   "execution_count": null,
   "metadata": {},
   "outputs": [],
   "source": []
  },
  {
   "cell_type": "code",
   "execution_count": null,
   "metadata": {},
   "outputs": [],
   "source": []
  },
  {
   "cell_type": "code",
   "execution_count": null,
   "metadata": {},
   "outputs": [],
   "source": []
  },
  {
   "cell_type": "code",
   "execution_count": null,
   "metadata": {},
   "outputs": [],
   "source": []
  },
  {
   "cell_type": "code",
   "execution_count": 1,
   "metadata": {},
   "outputs": [],
   "source": [
    "import pandas as pd\n",
    "import numpy as np\n",
    "from sklearn.model_selection import train_test_split\n",
    "from sklearn.ensemble import RandomForestClassifier\n",
    "from sklearn.metrics import roc_auc_score\n",
    "import mlflow\n",
    "import mlflow.sklearn\n"
   ]
  },
  {
   "cell_type": "code",
   "execution_count": null,
   "metadata": {},
   "outputs": [],
   "source": [
    "import pandas as pd\n",
    "\n",
    "# Chargement des données\n",
    "application_train = pd.read_csv('application_train.csv')\n",
    "application_test = pd.read_csv('application_test.csv')\n",
    "\n",
    "# Fusion des deux fichiers pour avoir un ensemble unique\n",
    "df = pd.concat([application_train, application_test], axis=0)"
   ]
  },
  {
   "cell_type": "code",
   "execution_count": 2,
   "metadata": {},
   "outputs": [],
   "source": [
    "# Charger le fichier application_train.csv\n",
    "df = pd.read_csv('application_train.csv')\n",
    "\n",
    "# Supprimer les colonnes non numériques (si nécessaire)\n",
    "df = df.select_dtypes(include=[np.number])\n",
    "\n",
    "# Séparer les features et la target\n",
    "X = df.drop(columns=['TARGET'])\n",
    "y = df['TARGET']\n"
   ]
  },
  {
   "cell_type": "code",
   "execution_count": 3,
   "metadata": {},
   "outputs": [],
   "source": [
    "# Diviser les données en ensembles d'entraînement et de test\n",
    "X_train, X_test, y_train, y_test = train_test_split(X, y, test_size=0.2, random_state=42)\n",
    "\n",
    "# Entraîner un modèle RandomForest pour l'importance des features\n",
    "model = RandomForestClassifier(n_estimators=100, random_state=42)\n",
    "model.fit(X_train, y_train)\n",
    "\n",
    "# Récupérer l'importance des features\n",
    "importances = model.feature_importances_\n",
    "indices = np.argsort(importances)[::-1]  # Indices des features triées par importance\n",
    "\n",
    "# Sélectionner les 50 meilleures features\n",
    "top_50_indices = indices[:50]\n",
    "X_train_top50 = X_train.iloc[:, top_50_indices]\n",
    "X_test_top50 = X_test.iloc[:, top_50_indices]\n",
    "\n",
    "# Obtenir les noms des features sélectionnées\n",
    "selected_features = X_train.columns[top_50_indices]\n"
   ]
  },
  {
   "cell_type": "code",
   "execution_count": 4,
   "metadata": {},
   "outputs": [
    {
     "name": "stdout",
     "output_type": "stream",
     "text": [
      "AUC Score: 0.7093\n"
     ]
    }
   ],
   "source": [
    "# Entraîner un modèle RandomForest avec les 50 meilleures features\n",
    "model_top50 = RandomForestClassifier(n_estimators=100, random_state=42)\n",
    "model_top50.fit(X_train_top50, y_train)\n",
    "\n",
    "# Prédire sur l'ensemble de test\n",
    "y_pred = model_top50.predict_proba(X_test_top50)[:, 1]\n",
    "\n",
    "# Calculer l'AUC\n",
    "auc_score = roc_auc_score(y_test, y_pred)\n",
    "print(f'AUC Score: {auc_score:.4f}')\n"
   ]
  },
  {
   "cell_type": "code",
   "execution_count": 10,
   "metadata": {},
   "outputs": [
    {
     "name": "stderr",
     "output_type": "stream",
     "text": [
      "2024/08/29 13:45:09 WARNING mlflow.models.model: Input example should be provided to infer model signature if the model signature is not provided when logging the model.\n",
      "2024/08/29 13:45:09 INFO mlflow.tracking._tracking_service.client: 🏃 View run powerful-newt-338 at: http://127.0.0.1:5000//#/experiments/0/runs/c19188d0a61d47efb24a346686e3f98f.\n",
      "2024/08/29 13:45:09 INFO mlflow.tracking._tracking_service.client: 🧪 View experiment at: http://127.0.0.1:5000//#/experiments/0.\n"
     ]
    },
    {
     "name": "stdout",
     "output_type": "stream",
     "text": [
      "Modèle enregistré avec succès sur MLflow.\n"
     ]
    }
   ],
   "source": [
    "import pandas as pd\n",
    "import numpy as np\n",
    "from sklearn.model_selection import train_test_split\n",
    "from sklearn.ensemble import RandomForestClassifier\n",
    "from sklearn.metrics import roc_auc_score\n",
    "import mlflow\n",
    "import mlflow.sklearn\n",
    "\n",
    "mlflow.set_tracking_uri(\"http://127.0.0.1:5000/\")\n",
    "# Configurer l'URI de suivi\n",
    "#mlflow.set_tracking_uri(\"file:///G:/projet data/OPC_Projets/P7/mlruns\")\n",
    "\n",
    "# Démarrer une nouvelle run sur MLflow\n",
    "with mlflow.start_run():\n",
    "    # Enregistrer le modèle\n",
    "    mlflow.sklearn.log_model(model_top50, \"model\")\n",
    "\n",
    "    # Enregistrer l'AUC\n",
    "    mlflow.log_metric(\"AUC\", auc_score)\n",
    "\n",
    "    # Enregistrer les features sélectionnées\n",
    "    mlflow.log_param(\"selected_features\", list(selected_features))\n",
    "    \n",
    "    print(\"Modèle enregistré avec succès sur MLflow.\")\n"
   ]
  },
  {
   "cell_type": "code",
   "execution_count": 12,
   "metadata": {},
   "outputs": [
    {
     "name": "stdout",
     "output_type": "stream",
     "text": [
      "Status Code: 404\n",
      "Response Text: <!doctype html>\n",
      "<html lang=en>\n",
      "<title>404 Not Found</title>\n",
      "<h1>Not Found</h1>\n",
      "<p>The requested URL was not found on the server. If you entered the URL manually please check your spelling and try again.</p>\n",
      "\n",
      "Error decoding JSON: Expecting value: line 1 column 1 (char 0)\n"
     ]
    }
   ],
   "source": [
    "import requests\n",
    "\n",
    "url = \"http://127.0.0.1:5000/predict\"\n",
    "payload = {\"SK_ID_CURR\": 100002}\n",
    "headers = {\"Content-Type\": \"application/json\"}\n",
    "\n",
    "response = requests.post(url, json=payload, headers=headers)\n",
    "\n",
    "# Afficher le code de statut HTTP et le contenu brut de la réponse\n",
    "print(\"Status Code:\", response.status_code)\n",
    "print(\"Response Text:\", response.text)\n",
    "\n",
    "# Tenter de décoder en JSON si possible\n",
    "try:\n",
    "    print(\"JSON Response:\", response.json())\n",
    "except ValueError as e:\n",
    "    print(\"Error decoding JSON:\", e)\n"
   ]
  }
 ],
 "metadata": {
  "kernelspec": {
   "display_name": "venv",
   "language": "python",
   "name": "python3"
  },
  "language_info": {
   "codemirror_mode": {
    "name": "ipython",
    "version": 3
   },
   "file_extension": ".py",
   "mimetype": "text/x-python",
   "name": "python",
   "nbconvert_exporter": "python",
   "pygments_lexer": "ipython3",
   "version": "3.12.4"
  }
 },
 "nbformat": 4,
 "nbformat_minor": 2
}
